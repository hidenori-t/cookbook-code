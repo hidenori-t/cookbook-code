{
 "cells": [
  {
   "cell_type": "markdown",
   "metadata": {},
   "source": [
    "> This is one of the 100 recipes of the [IPython Cookbook](http://ipython-books.github.io/), the definitive guide to high-performance scientific computing and data science in Python.\n"
   ]
  },
  {
   "cell_type": "markdown",
   "metadata": {},
   "source": [
    "# 3.2. Converting an IPython notebook to other formats with nbconvert"
   ]
  },
  {
   "cell_type": "markdown",
   "metadata": {},
   "source": [
    "You need pandoc, a LateX distribution, and the Notebook dataset on the book's website. On Windows, you also need pywin32 (`conda install pywin32` if you use Anaconda)."
   ]
  },
  {
   "cell_type": "markdown",
   "metadata": {},
   "source": [
    "1. Let's open the test notebook in the `data` folder. A notebook is just a plain text file (JSON), so we open it in text mode (`r` mode)."
   ]
  },
  {
   "cell_type": "code",
   "execution_count": 3,
   "metadata": {
    "collapsed": false
   },
   "outputs": [
    {
     "name": "stdout",
     "output_type": "stream",
     "text": [
      "3787\n"
     ]
    }
   ],
   "source": [
    "with open('data/test.ipynb', 'r') as f:\n",
    "    contents = f.read()\n",
    "print(len(contents))"
   ]
  },
  {
   "cell_type": "code",
   "execution_count": 4,
   "metadata": {
    "collapsed": false,
    "strip_output": [
     10,
     10
    ]
   },
   "outputs": [
    {
     "name": "stdout",
     "output_type": "stream",
     "text": [
      "{\n",
      " \"metadata\": {\n",
      "  \"celltoolbar\": \"Edit Metadata\",\n",
      "  \"name\": \"\",\n",
      "  \"signature\": \"sha256:50dbdf439f8e74ec064d182ebfdb541a873e6608ee11f807e625253d8b02c459\"\n",
      " },\n",
      " \"nbformat\": 3,\n",
      " \"nbformat_minor\": 0,\n",
      " \"worksheets\": [\n",
      "  {\n",
      "   \"cells\": [\n",
      "    {\n",
      "     \"cell_type\": \"markdown\",\n",
      "     \"metadata\": {},\n",
      "     \"source\": [\n",
      "      \"# First chapter\"\n",
      "     ]\n",
      "    },\n",
      "  ...\n",
      "   ],\n",
      "   \"metadata\": {}\n",
      "  }\n",
      " ]\n",
      "}\n"
     ]
    }
   ],
   "source": [
    "print(contents[:345] + '...' + contents[-33:])"
   ]
  },
  {
   "cell_type": "markdown",
   "metadata": {},
   "source": [
    "2. Now that we have loaded the notebook as a string, let's parse it with the `json` module."
   ]
  },
  {
   "cell_type": "code",
   "execution_count": 5,
   "metadata": {
    "collapsed": false
   },
   "outputs": [],
   "source": [
    "import json\n",
    "nb = json.loads(contents)"
   ]
  },
  {
   "cell_type": "markdown",
   "metadata": {},
   "source": [
    "3. Let's have a look at the keys in the notebook dictionary."
   ]
  },
  {
   "cell_type": "code",
   "execution_count": 6,
   "metadata": {
    "collapsed": false
   },
   "outputs": [
    {
     "name": "stdout",
     "output_type": "stream",
     "text": [
      "dict_keys(['metadata', 'nbformat', 'nbformat_minor', 'worksheets'])\n",
      "nbformat 3.0\n"
     ]
    }
   ],
   "source": [
    "print(nb.keys())\n",
    "print('nbformat ' + str(nb['nbformat']) + \n",
    "      '.' + str(nb['nbformat_minor']))"
   ]
  },
  {
   "cell_type": "markdown",
   "metadata": {},
   "source": [
    "The version of the notebook format is indicated in `nbformat` and `nbformat_minor`."
   ]
  },
  {
   "cell_type": "markdown",
   "metadata": {},
   "source": [
    "3. The main field is `worksheets`: there is only one by default. A worksheet contains a list of cells, and some metadata."
   ]
  },
  {
   "cell_type": "code",
   "execution_count": 7,
   "metadata": {
    "collapsed": false
   },
   "outputs": [
    {
     "data": {
      "text/plain": [
       "dict_keys(['metadata', 'cells'])"
      ]
     },
     "execution_count": 7,
     "metadata": {},
     "output_type": "execute_result"
    }
   ],
   "source": [
    "nb['worksheets'][0].keys()"
   ]
  },
  {
   "cell_type": "markdown",
   "metadata": {},
   "source": [
    "4. Each cell has a type, optional metadata, some contents (text or code), possibly one or several outputs, and other information. Let's look at a Markdown cell and a code cell."
   ]
  },
  {
   "cell_type": "code",
   "execution_count": 8,
   "metadata": {
    "collapsed": false
   },
   "outputs": [
    {
     "data": {
      "text/plain": [
       "{'cell_type': 'markdown',\n",
       " 'metadata': {'my_field': ['value1', '2405']},\n",
       " 'source': [\"Let's write some *rich* **text** with [links](http://www.ipython.org) and lists:\\n\",\n",
       "  '\\n',\n",
       "  '* item1\\n',\n",
       "  '* item2\\n',\n",
       "  '    1. subitem\\n',\n",
       "  '    2. subitem\\n',\n",
       "  '* item3']}"
      ]
     },
     "execution_count": 8,
     "metadata": {},
     "output_type": "execute_result"
    }
   ],
   "source": [
    "nb['worksheets'][0]['cells'][1]"
   ]
  },
  {
   "cell_type": "code",
   "execution_count": 9,
   "metadata": {
    "collapsed": false
   },
   "outputs": [
    {
     "data": {
      "text/plain": [
       "{'cell_type': 'code',\n",
       " 'collapsed': False,\n",
       " 'input': ['import numpy as np\\n',\n",
       "  'import matplotlib.pyplot as plt\\n',\n",
       "  '%matplotlib inline\\n',\n",
       "  'plt.figure(figsize=(2,2));\\n',\n",
       "  \"plt.imshow(np.random.rand(10,10), interpolation='none');\\n\",\n",
       "  \"plt.axis('off');\\n\",\n",
       "  'plt.tight_layout();'],\n",
       " 'language': 'python',\n",
       " 'metadata': {},\n",
       " 'outputs': [{'metadata': {},\n",
       "   'output_type': 'display_data',\n",
       "   'png': 'iVBORw0KGgoAAAANSUhEUgAAAP8AAAEMCAYAAAALeWDJAAAABHNCSVQICAgIfAhkiAAAAAlwSFlz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\\nTkSuQmCC\\n',\n",
       "   'text': ['<matplotlib.figure.Figure at 0x747c080>']}],\n",
       " 'prompt_number': 1}"
      ]
     },
     "execution_count": 9,
     "metadata": {},
     "output_type": "execute_result"
    }
   ],
   "source": [
    "nb['worksheets'][0]['cells'][2]"
   ]
  },
  {
   "cell_type": "markdown",
   "metadata": {},
   "source": [
    "5. Once parsed, the notebook is represented as a Python dictionary. Manipulating it is therefore quite convenient in Python. Here, we count the number of Markdown and code cells."
   ]
  },
  {
   "cell_type": "code",
   "execution_count": 10,
   "metadata": {
    "collapsed": false
   },
   "outputs": [
    {
     "name": "stdout",
     "output_type": "stream",
     "text": [
      "There are 2 Markdown cells and 1 code cells.\n"
     ]
    }
   ],
   "source": [
    "cells = nb['worksheets'][0]['cells']\n",
    "nm = len([cell for cell in cells\n",
    "          if cell['cell_type'] == 'markdown'])\n",
    "nc = len([cell for cell in cells\n",
    "          if cell['cell_type'] == 'code'])\n",
    "print((\"There are {nm} Markdown cells and \"\n",
    "       \"{nc} code cells.\").format(\n",
    "        nm=nm, nc=nc))"
   ]
  },
  {
   "cell_type": "markdown",
   "metadata": {},
   "source": [
    "6. Let's have a closer look at the image output of the cell with the matplotlib figure."
   ]
  },
  {
   "cell_type": "code",
   "execution_count": 11,
   "metadata": {
    "collapsed": false
   },
   "outputs": [
    {
     "data": {
      "text/plain": [
       "{'metadata': {},\n",
       " 'output_type': 'display_data',\n",
       " 'png': 'iVBORw0KGgoAAAANSUhE...ErAAAAAElF\\nTkSuQmCC\\n',\n",
       " 'text': ['<matplotlib.figure.Figure at 0x747c080>']}"
      ]
     },
     "execution_count": 11,
     "metadata": {},
     "output_type": "execute_result"
    }
   ],
   "source": [
    "png = cells[2]['outputs'][0]['png']\n",
    "cells[2]['outputs'][0]['png'] = png[:20] + '...' + png[-20:]\n",
    "cells[2]['outputs'][0]"
   ]
  },
  {
   "cell_type": "markdown",
   "metadata": {},
   "source": [
    "In general, there can be zero, one, or multiple outputs. Besides, each output can have multiple representations. Here, the matplotlib figure has a PNG representation (the base64-encoded image) and a text representation (the internal representation of the figure)."
   ]
  },
  {
   "cell_type": "markdown",
   "metadata": {},
   "source": [
    "7. Now, we are going to use nbconvert to convert our text notebook to other formats. This tool can be used from the command-line (if you are using IPython < 4.x, replace command `jupyter` with `ipython`). Here, we convert the notebook to an HTML document."
   ]
  },
  {
   "cell_type": "code",
   "execution_count": 12,
   "metadata": {
    "collapsed": false
   },
   "outputs": [
    {
     "name": "stdout",
     "output_type": "stream",
     "text": [
      "[NbConvertApp] Converting notebook data/test.ipynb to html\n",
      "[NbConvertApp] Writing 193028 bytes to test.html\n"
     ]
    }
   ],
   "source": [
    "!jupyter nbconvert --to html data/test.ipynb"
   ]
  },
  {
   "cell_type": "markdown",
   "metadata": {},
   "source": [
    "8. Let's display this document in an `<iframe>` (a small window showing an external HTML document within the notebook)."
   ]
  },
  {
   "cell_type": "code",
   "execution_count": 13,
   "metadata": {
    "collapsed": false
   },
   "outputs": [
    {
     "data": {
      "text/html": [
       "\n",
       "        <iframe\n",
       "            width=\"600\"\n",
       "            height=\"200\"\n",
       "            src=\"test.html\"\n",
       "            frameborder=\"0\"\n",
       "            allowfullscreen\n",
       "        ></iframe>\n",
       "        "
      ],
      "text/plain": [
       "<IPython.lib.display.IFrame at 0x1024f1390>"
      ]
     },
     "execution_count": 13,
     "metadata": {},
     "output_type": "execute_result"
    }
   ],
   "source": [
    "from IPython.display import IFrame\n",
    "IFrame('test.html', 600, 200)"
   ]
  },
  {
   "cell_type": "markdown",
   "metadata": {},
   "source": [
    "9. We can also convert the notebook to LaTeX and PDF. In order to specify the title and author of the document, we need to *extend* the default LaTeX template. First, we create a file `mytemplate.tplx` that extends the default `article.tplx` template provided by nbconvert. We precise the contents of the author and title blocks here."
   ]
  },
  {
   "cell_type": "code",
   "execution_count": 14,
   "metadata": {
    "collapsed": false
   },
   "outputs": [
    {
     "name": "stdout",
     "output_type": "stream",
     "text": [
      "Writing mytemplate.tplx\n"
     ]
    }
   ],
   "source": [
    "%%writefile mytemplate.tplx\n",
    "((*- extends 'article.tplx' -*))\n",
    "\n",
    "((* block author *))\n",
    "\\author{Cyrille Rossant}\n",
    "((* endblock author *))\n",
    "\n",
    "((* block title *))\n",
    "\\title{My document}\n",
    "((* endblock title *))"
   ]
  },
  {
   "cell_type": "markdown",
   "metadata": {},
   "source": [
    "10. Then, we can run nbconvert by specifying our custom template."
   ]
  },
  {
   "cell_type": "code",
   "execution_count": null,
   "metadata": {
    "collapsed": false
   },
   "outputs": [
    {
     "name": "stdout",
     "output_type": "stream",
     "text": [
      "[NbConvertApp] Converting notebook data/test.ipynb to latex\n",
      "[NbConvertApp] Support files will be in test_files/\n",
      "[NbConvertApp] Making directory test_files\n",
      "[NbConvertApp] Writing 14866 bytes to test.tex\n",
      "This is pdfTeX, Version 3.14159265-2.6-1.40.16 (TeX Live 2015) (preloaded format=pdflatex)\n",
      " restricted \\write18 enabled.\n",
      "entering extended mode\n",
      "(./test.tex\n",
      "LaTeX2e <2015/01/01>\n",
      "Babel <3.9l> and hyphenation patterns for 21 languages loaded.\n",
      "(/usr/local/texlive/2015basic/texmf-dist/tex/latex/base/article.cls\n",
      "Document Class: article 2014/09/29 v1.4h Standard LaTeX document class\n",
      "(/usr/local/texlive/2015basic/texmf-dist/tex/latex/base/size10.clo))\n",
      "(/usr/local/texlive/2015basic/texmf-dist/tex/latex/graphics/graphicx.sty\n",
      "(/usr/local/texlive/2015basic/texmf-dist/tex/latex/graphics/keyval.sty)\n",
      "(/usr/local/texlive/2015basic/texmf-dist/tex/latex/graphics/graphics.sty\n",
      "(/usr/local/texlive/2015basic/texmf-dist/tex/latex/graphics/trig.sty)\n",
      "(/usr/local/texlive/2015basic/texmf-dist/tex/latex/latexconfig/graphics.cfg)\n",
      "(/usr/local/texlive/2015basic/texmf-dist/tex/latex/pdftex-def/pdftex.def\n",
      "(/usr/local/texlive/2015basic/texmf-dist/tex/generic/oberdiek/infwarerr.sty)\n",
      "(/usr/local/texlive/2015basic/texmf-dist/tex/generic/oberdiek/ltxcmds.sty))))\n",
      "\n",
      "! LaTeX Error: File `adjustbox.sty' not found.\n",
      "\n",
      "Type X to quit or <RETURN> to proceed,\n",
      "or enter new name. (Default extension: sty)\n",
      "\n",
      "Enter file name: "
     ]
    }
   ],
   "source": [
    "!jupyter nbconvert --to latex --template mytemplate data/test.ipynb\n",
    "!pdflatex test.tex"
   ]
  }
 ],
 "metadata": {
  "kernelspec": {
   "display_name": "Python 3",
   "language": "python",
   "name": "python3"
  },
  "language_info": {
   "codemirror_mode": {
    "name": "ipython",
    "version": 3
   },
   "file_extension": ".py",
   "mimetype": "text/x-python",
   "name": "python",
   "nbconvert_exporter": "python",
   "pygments_lexer": "ipython3",
   "version": "3.5.0"
  },
  "latex_envs": {
   "bibliofile": "biblio.bib",
   "cite_by": "apalike",
   "current_citInitial": 1,
   "eqLabelWithNumbers": true,
   "eqNumInitial": 0
  },
  "toc": {
   "toc_cell": false,
   "toc_number_sections": true,
   "toc_threshold": 6,
   "toc_window_display": false
  }
 },
 "nbformat": 4,
 "nbformat_minor": 0
}
