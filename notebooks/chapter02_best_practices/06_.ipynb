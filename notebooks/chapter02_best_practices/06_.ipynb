{
 "cells": [
  {
   "cell_type": "markdown",
   "metadata": {},
   "source": [
    "> This is one of the 100 recipes of the [IPython Cookbook](http://ipython-books.github.io/), the definitive guide to high-performance scientific computing and data science in Python.\n"
   ]
  },
  {
   "cell_type": "markdown",
   "metadata": {},
   "source": [
    "# 2.6. 高品質なPythonコード(p.56)"
   ]
  },
  {
   "cell_type": "markdown",
   "metadata": {},
   "source": [
    "## 手順\n",
    "### 10\n",
    "次の例のように，すべての関数には，その目的，引数，戻り値をdocstringとして記述する．  \n",
    "NumPyのような人気のあるライブラリが採用している技法も参考にしてみる．  \n",
    "重要なことは，すべてのコードで一貫性を持たせること．  \n",
    "MarkdownやreSTなどのマークアップ言語を使っても良いだろう．"
   ]
  },
  {
   "cell_type": "code",
   "execution_count": null,
   "metadata": {
    "collapsed": true
   },
   "outputs": [],
   "source": [
    "def power(x, n):\n",
    "    \"\"\"数の累乗を計算する．\n",
    "\n",
    "    引数:\n",
    "     * x: 数\n",
    "     * n: 指数\n",
    "    戻り値:\n",
    "     * c: xのn乗\n",
    "    \"\"\"\n",
    "    return x ** n"
   ]
  },
  {
   "cell_type": "markdown",
   "metadata": {},
   "source": [
    "### 11\n",
    "PEP8として知られている，スタイルガイドに従おう．\n",
    "### 12\n",
    "Pyhtonのpep8パッケージを使ってガイドラインに準拠しているか自動的にチェックできる．  \n",
    "`pip install pep8`\n",
    "でインストールし，\n",
    "`pep8 myscript.py`\n",
    "で実行  \n",
    "http://kaworu.jpn.org/python/pep8\n",
    "http://qiita.com/ynakayama/items/8616f4c0c6e372de9a42\n",
    "### 13\n",
    "PyLintを使う\n",
    "### 14\n",
    "空行を使って関連するコードが識別できるようにする（PEP8を参照）  \n",
    "次の例のように，目立つコメントを使ってモジュールの境界を示す"
   ]
  },
  {
   "cell_type": "code",
   "execution_count": 2,
   "metadata": {
    "collapsed": false
   },
   "outputs": [],
   "source": [
    "# モジュールのインポート\n",
    "# ------------------\n",
    "import numpy\n",
    "\n",
    "# ユーティリティ関数\n",
    "# ------------------\n",
    "def fun():\n",
    "    pass"
   ]
  },
  {
   "cell_type": "markdown",
   "metadata": {},
   "source": [
    "## 解説\n",
    "モジュール化されたコードは理解と再利用を促す．  \n",
    "パッケージとモジュールの階層構造により，組織化された独立関数群を使い実装する．  \n",
    "クラスの代わりに関数を使えば，コード全体の結びつきを緩く保つことが簡単"
   ]
  },
  {
   "cell_type": "markdown",
   "metadata": {},
   "source": [
    "> You'll find all the explanations, figures, references, and much more in the book (to be released later this summer).\n",
    "\n",
    "> [IPython Cookbook](http://ipython-books.github.io/), by [Cyrille Rossant](http://cyrille.rossant.net), Packt Publishing, 2014 (500 pages)."
   ]
  }
 ],
 "metadata": {
  "kernelspec": {
   "display_name": "Python 3",
   "language": "python",
   "name": "python3"
  },
  "language_info": {
   "codemirror_mode": {
    "name": "ipython",
    "version": 3
   },
   "file_extension": ".py",
   "mimetype": "text/x-python",
   "name": "python",
   "nbconvert_exporter": "python",
   "pygments_lexer": "ipython3",
   "version": "3.5.0"
  },
  "latex_envs": {
   "bibliofile": "biblio.bib",
   "cite_by": "apalike",
   "current_citInitial": 1,
   "eqLabelWithNumbers": true,
   "eqNumInitial": 0
  },
  "toc": {
   "toc_cell": false,
   "toc_number_sections": true,
   "toc_threshold": 6,
   "toc_window_display": false
  }
 },
 "nbformat": 4,
 "nbformat_minor": 0
}
